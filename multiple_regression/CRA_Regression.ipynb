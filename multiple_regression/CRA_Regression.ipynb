{
  "nbformat": 4,
  "nbformat_minor": 0,
  "metadata": {
    "colab": {
      "name": "CRA Regression",
      "version": "0.3.2",
      "provenance": [],
      "collapsed_sections": []
    },
    "kernelspec": {
      "name": "python3",
      "display_name": "Python 3"
    }
  },
  "cells": [
    {
      "cell_type": "markdown",
      "metadata": {
        "id": "HDPYlFYYAqdo",
        "colab_type": "text"
      },
      "source": [
        "# Dependências"
      ]
    },
    {
      "cell_type": "code",
      "metadata": {
        "id": "IwqizOUQ0-ec",
        "colab_type": "code",
        "colab": {}
      },
      "source": [
        "import numpy as np\n",
        "import pandas as pd\n",
        "import matplotlib.pyplot as plt\n",
        "import seaborn as sns\n",
        "from sklearn.linear_model import LinearRegression\n",
        "from sklearn.metrics import mean_squared_error, r2_score\n",
        "from sklearn.model_selection import train_test_split"
      ],
      "execution_count": 0,
      "outputs": []
    },
    {
      "cell_type": "markdown",
      "metadata": {
        "id": "eO3KwA3XAs0K",
        "colab_type": "text"
      },
      "source": [
        "# Carregando os dados"
      ]
    },
    {
      "cell_type": "code",
      "metadata": {
        "id": "mdYE0j7P1UR1",
        "colab_type": "code",
        "outputId": "1bc1f4a0-f810-4498-ecc7-04791441751c",
        "colab": {
          "base_uri": "https://localhost:8080/",
          "height": 206
        }
      },
      "source": [
        "df = pd.read_csv('https://canvas.instructure.com/files/79840847/download?download_frd=1')\n",
        "df.head()"
      ],
      "execution_count": 0,
      "outputs": [
        {
          "output_type": "execute_result",
          "data": {
            "text/html": [
              "<div>\n",
              "<style scoped>\n",
              "    .dataframe tbody tr th:only-of-type {\n",
              "        vertical-align: middle;\n",
              "    }\n",
              "\n",
              "    .dataframe tbody tr th {\n",
              "        vertical-align: top;\n",
              "    }\n",
              "\n",
              "    .dataframe thead th {\n",
              "        text-align: right;\n",
              "    }\n",
              "</style>\n",
              "<table border=\"1\" class=\"dataframe\">\n",
              "  <thead>\n",
              "    <tr style=\"text-align: right;\">\n",
              "      <th></th>\n",
              "      <th>Cálculo1</th>\n",
              "      <th>LPT</th>\n",
              "      <th>P1</th>\n",
              "      <th>IC</th>\n",
              "      <th>Cálculo2</th>\n",
              "      <th>cra</th>\n",
              "    </tr>\n",
              "  </thead>\n",
              "  <tbody>\n",
              "    <tr>\n",
              "      <th>0</th>\n",
              "      <td>8.7</td>\n",
              "      <td>10.0</td>\n",
              "      <td>9.0</td>\n",
              "      <td>9.1</td>\n",
              "      <td>8.4</td>\n",
              "      <td>8.477647</td>\n",
              "    </tr>\n",
              "    <tr>\n",
              "      <th>1</th>\n",
              "      <td>7.0</td>\n",
              "      <td>7.0</td>\n",
              "      <td>7.7</td>\n",
              "      <td>7.0</td>\n",
              "      <td>6.2</td>\n",
              "      <td>6.851724</td>\n",
              "    </tr>\n",
              "    <tr>\n",
              "      <th>2</th>\n",
              "      <td>8.6</td>\n",
              "      <td>9.8</td>\n",
              "      <td>7.9</td>\n",
              "      <td>9.6</td>\n",
              "      <td>8.7</td>\n",
              "      <td>9.090588</td>\n",
              "    </tr>\n",
              "    <tr>\n",
              "      <th>3</th>\n",
              "      <td>7.8</td>\n",
              "      <td>8.3</td>\n",
              "      <td>6.8</td>\n",
              "      <td>8.2</td>\n",
              "      <td>8.0</td>\n",
              "      <td>7.283516</td>\n",
              "    </tr>\n",
              "    <tr>\n",
              "      <th>4</th>\n",
              "      <td>5.2</td>\n",
              "      <td>9.3</td>\n",
              "      <td>5.0</td>\n",
              "      <td>8.5</td>\n",
              "      <td>5.0</td>\n",
              "      <td>7.205747</td>\n",
              "    </tr>\n",
              "  </tbody>\n",
              "</table>\n",
              "</div>"
            ],
            "text/plain": [
              "   Cálculo1   LPT   P1   IC  Cálculo2       cra\n",
              "0       8.7  10.0  9.0  9.1       8.4  8.477647\n",
              "1       7.0   7.0  7.7  7.0       6.2  6.851724\n",
              "2       8.6   9.8  7.9  9.6       8.7  9.090588\n",
              "3       7.8   8.3  6.8  8.2       8.0  7.283516\n",
              "4       5.2   9.3  5.0  8.5       5.0  7.205747"
            ]
          },
          "metadata": {
            "tags": []
          },
          "execution_count": 5
        }
      ]
    },
    {
      "cell_type": "markdown",
      "metadata": {
        "id": "0P8xsg-XAwpf",
        "colab_type": "text"
      },
      "source": [
        "# Sumário dos Dados"
      ]
    },
    {
      "cell_type": "code",
      "metadata": {
        "id": "tD-S-2OB1miJ",
        "colab_type": "code",
        "outputId": "0c0458e8-3dab-4412-d4c9-a42a827b7f85",
        "colab": {
          "base_uri": "https://localhost:8080/",
          "height": 297
        }
      },
      "source": [
        "df.describe()"
      ],
      "execution_count": 0,
      "outputs": [
        {
          "output_type": "execute_result",
          "data": {
            "text/html": [
              "<div>\n",
              "<style scoped>\n",
              "    .dataframe tbody tr th:only-of-type {\n",
              "        vertical-align: middle;\n",
              "    }\n",
              "\n",
              "    .dataframe tbody tr th {\n",
              "        vertical-align: top;\n",
              "    }\n",
              "\n",
              "    .dataframe thead th {\n",
              "        text-align: right;\n",
              "    }\n",
              "</style>\n",
              "<table border=\"1\" class=\"dataframe\">\n",
              "  <thead>\n",
              "    <tr style=\"text-align: right;\">\n",
              "      <th></th>\n",
              "      <th>Cálculo1</th>\n",
              "      <th>LPT</th>\n",
              "      <th>P1</th>\n",
              "      <th>IC</th>\n",
              "      <th>Cálculo2</th>\n",
              "      <th>cra</th>\n",
              "    </tr>\n",
              "  </thead>\n",
              "  <tbody>\n",
              "    <tr>\n",
              "      <th>count</th>\n",
              "      <td>88.000000</td>\n",
              "      <td>88.000000</td>\n",
              "      <td>88.000000</td>\n",
              "      <td>88.000000</td>\n",
              "      <td>88.000000</td>\n",
              "      <td>88.000000</td>\n",
              "    </tr>\n",
              "    <tr>\n",
              "      <th>mean</th>\n",
              "      <td>7.200000</td>\n",
              "      <td>8.480114</td>\n",
              "      <td>7.407955</td>\n",
              "      <td>8.172727</td>\n",
              "      <td>6.323864</td>\n",
              "      <td>7.332535</td>\n",
              "    </tr>\n",
              "    <tr>\n",
              "      <th>std</th>\n",
              "      <td>1.228493</td>\n",
              "      <td>0.984522</td>\n",
              "      <td>1.346278</td>\n",
              "      <td>0.894007</td>\n",
              "      <td>1.293662</td>\n",
              "      <td>0.849758</td>\n",
              "    </tr>\n",
              "    <tr>\n",
              "      <th>min</th>\n",
              "      <td>5.000000</td>\n",
              "      <td>6.200000</td>\n",
              "      <td>5.000000</td>\n",
              "      <td>5.900000</td>\n",
              "      <td>5.000000</td>\n",
              "      <td>4.874468</td>\n",
              "    </tr>\n",
              "    <tr>\n",
              "      <th>25%</th>\n",
              "      <td>6.275000</td>\n",
              "      <td>7.700000</td>\n",
              "      <td>6.500000</td>\n",
              "      <td>7.500000</td>\n",
              "      <td>5.100000</td>\n",
              "      <td>6.841484</td>\n",
              "    </tr>\n",
              "    <tr>\n",
              "      <th>50%</th>\n",
              "      <td>7.200000</td>\n",
              "      <td>8.500000</td>\n",
              "      <td>7.750000</td>\n",
              "      <td>8.200000</td>\n",
              "      <td>5.800000</td>\n",
              "      <td>7.274746</td>\n",
              "    </tr>\n",
              "    <tr>\n",
              "      <th>75%</th>\n",
              "      <td>8.125000</td>\n",
              "      <td>9.300000</td>\n",
              "      <td>8.325000</td>\n",
              "      <td>8.800000</td>\n",
              "      <td>7.500000</td>\n",
              "      <td>7.883292</td>\n",
              "    </tr>\n",
              "    <tr>\n",
              "      <th>max</th>\n",
              "      <td>9.800000</td>\n",
              "      <td>10.000000</td>\n",
              "      <td>10.000000</td>\n",
              "      <td>10.000000</td>\n",
              "      <td>9.300000</td>\n",
              "      <td>9.090588</td>\n",
              "    </tr>\n",
              "  </tbody>\n",
              "</table>\n",
              "</div>"
            ],
            "text/plain": [
              "        Cálculo1        LPT         P1         IC   Cálculo2        cra\n",
              "count  88.000000  88.000000  88.000000  88.000000  88.000000  88.000000\n",
              "mean    7.200000   8.480114   7.407955   8.172727   6.323864   7.332535\n",
              "std     1.228493   0.984522   1.346278   0.894007   1.293662   0.849758\n",
              "min     5.000000   6.200000   5.000000   5.900000   5.000000   4.874468\n",
              "25%     6.275000   7.700000   6.500000   7.500000   5.100000   6.841484\n",
              "50%     7.200000   8.500000   7.750000   8.200000   5.800000   7.274746\n",
              "75%     8.125000   9.300000   8.325000   8.800000   7.500000   7.883292\n",
              "max     9.800000  10.000000  10.000000  10.000000   9.300000   9.090588"
            ]
          },
          "metadata": {
            "tags": []
          },
          "execution_count": 3
        }
      ]
    },
    {
      "cell_type": "markdown",
      "metadata": {
        "id": "w04_C7DmRisP",
        "colab_type": "text"
      },
      "source": [
        "# Partição Treino/Teste"
      ]
    },
    {
      "cell_type": "code",
      "metadata": {
        "id": "Ag2owOFhRm7y",
        "colab_type": "code",
        "colab": {}
      },
      "source": [
        "x = df[['Cálculo1', 'LPT', 'P1', 'IC', 'Cálculo2']]\n",
        "y = df.cra.values\n",
        "\n",
        "x_train, x_test, y_train, y_test = train_test_split(x, y, test_size=0.1, random_state=42)"
      ],
      "execution_count": 0,
      "outputs": []
    }
  ]
}